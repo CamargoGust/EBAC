{
  "nbformat": 4,
  "nbformat_minor": 0,
  "metadata": {
    "colab": {
      "provenance": []
    },
    "kernelspec": {
      "name": "python3",
      "display_name": "Python 3"
    }
  },
  "cells": [
    {
      "cell_type": "markdown",
      "metadata": {
        "id": "KJqp9AANOCtf"
      },
      "source": [
        "<img src=\"https://raw.githubusercontent.com/andre-marcos-perez/ebac-course-utils/main/media/logo/newebac_logo_black_half.png\" alt=\"ebac-logo\">\n",
        "\n",
        "---\n",
        "\n",
        "# **Módulo** | Análise de Dados: Coleta de Dados I\n",
        "Caderno de **Exercícios**<br>\n",
        "Professor [André Perez](https://www.linkedin.com/in/andremarcosperez/)\n",
        "\n",
        "---"
      ]
    },
    {
      "cell_type": "markdown",
      "metadata": {
        "id": "d9jDtUbDOE1-"
      },
      "source": [
        "# **Tópicos**\n",
        "\n",
        "<ol type=\"1\">\n",
        "  <li>Arquivos CSV;</li>\n",
        "  <li>Arquivos Texto;</li>\n",
        "  <li>Arquivos Excel.</li>\n",
        "</ol>"
      ]
    },
    {
      "cell_type": "markdown",
      "metadata": {
        "id": "SmoHgt-lwkpD"
      },
      "source": [
        "---"
      ]
    },
    {
      "cell_type": "markdown",
      "metadata": {
        "id": "GABI6OW8OfQ2"
      },
      "source": [
        "# **Exercícios**"
      ]
    },
    {
      "cell_type": "markdown",
      "metadata": {
        "id": "muD1vxozykSC"
      },
      "source": [
        "## 0\\. Preparando o ambiente"
      ]
    },
    {
      "cell_type": "markdown",
      "metadata": {
        "id": "ByX7SUjNKk2K"
      },
      "source": [
        "Vamos explorar dados de crédito presentes no arquivo `credito.xlsx` ([link](https://raw.githubusercontent.com/andre-marcos-perez/ebac-course-utils/develop/dataset/credito.xlsx)). Os dados estão no formato de **Excel** (XLSX) e contém informações sobre clientes de uma instituição financeira. Em especial, estamos interessados em explicar a segunda coluna, chamada de **default**, que indica se um cliente é adimplente (`default = 0`), ou inadimplente (`default = 1`), ou seja, queremos entender o porque um cliente deixa de honrar com suas dívidas baseado no comportamento de outros atributos, como salário, escolaridade e movimentação financeira. Uma descrição completa dos atributos está abaixo."
      ]
    },
    {
      "cell_type": "markdown",
      "metadata": {
        "id": "Z5Fd0NSVLnwE"
      },
      "source": [
        "\n",
        "\n",
        "| Coluna  | Descrição |\n",
        "| ------- | --------- |\n",
        "| id      | Número da conta |\n",
        "| default | Indica se o cliente é adimplente (0) ou inadimplente (1) |\n",
        "| idade   | --- |\n",
        "| sexo    | --- |\n",
        "| depedentes | --- |\n",
        "| escolaridade | --- |\n",
        "| estado_civil | --- |\n",
        "| salario_anual | Faixa do salario mensal multiplicado por 12 |\n",
        "| tipo_cartao | Categoria do cartao: blue, silver, gold e platinium |\n",
        "| meses_de_relacionamento | Quantidade de meses desde a abertura da conta |\n",
        "| qtd_produtos | Quantidade de produtos contratados |\n",
        "| iteracoes_12m | Quantidade de iteracoes com o cliente no último ano |\n",
        "| meses_inatico_12m | Quantidade de meses que o cliente ficou inativo no último ano |\n",
        "| limite_credito | Valor do limite do cartão de crédito |\n",
        "| valor_transacoes_12m | Soma total do valor das transações no cartão de crédito no último ano |\n",
        "| qtd_transacoes_12m | Quantidade total de transações no cartão de crédito no último ano |\n",
        "\n"
      ]
    },
    {
      "cell_type": "markdown",
      "metadata": {
        "id": "peEbZE2vcMaH"
      },
      "source": [
        "Faça o download do arquivo `credito.xlsx` com a célula de código abaixo."
      ]
    },
    {
      "cell_type": "code",
      "metadata": {
        "id": "hyG8xFuWc16L"
      },
      "source": [
        "!wget --show-progress --continue -O ./credito.xlsx https://raw.githubusercontent.com/andre-marcos-perez/ebac-course-utils/main/dataset/credito.xlsx"
      ],
      "execution_count": null,
      "outputs": []
    },
    {
      "cell_type": "markdown",
      "metadata": {
        "id": "zMN1Q3jdwoJm"
      },
      "source": [
        "---"
      ]
    },
    {
      "cell_type": "markdown",
      "metadata": {
        "id": "GWgNoJN8DHyY"
      },
      "source": [
        "## 1\\. Excel para CSV"
      ]
    },
    {
      "cell_type": "markdown",
      "metadata": {
        "id": "YynK1vf2DHyj"
      },
      "source": [
        "Utilizando o pacote Python `openpyxl` visto em aula, extraia os seguintes as colunas `id`, `sexo` e `idade` para dos clientes inadimplentes (`default = 1`) e solteiros (`estado_civil = 'solteiro'`). Salves os dados extraídos no arquivo csv `credito.csv` separado por `;`. Exemplo do cabeçalho e das três primeiras linhas:\n",
        "\n",
        "```\n",
        "id;sexo;idade\n",
        "767712558;59;M\n",
        "713741358;46;M\n",
        "772390908;59;M\n",
        "```\n",
        "\n",
        "**Dica:** O arquivo csv `credito.csv` deve ter 669 linhas, contando com o cabeçalho.\n",
        "\n",
        "**Nota:** Escreva o código da sua solução abaixo em uma ou mais células, você não precisa enviar o arquivo csv gerado."
      ]
    },
    {
      "cell_type": "code",
      "source": [
        "# solução do exercício 1\n",
        "!pip install openpyxl"
      ],
      "metadata": {
        "colab": {
          "base_uri": "https://localhost:8080/"
        },
        "id": "4LfusTZyIMYn",
        "outputId": "a2c99f5c-6616-4222-de8c-74ea593b5c1a"
      },
      "execution_count": null,
      "outputs": [
        {
          "output_type": "stream",
          "name": "stdout",
          "text": [
            "Requirement already satisfied: openpyxl in /usr/local/lib/python3.10/dist-packages (3.1.2)\n",
            "Requirement already satisfied: et-xmlfile in /usr/local/lib/python3.10/dist-packages (from openpyxl) (1.1.0)\n"
          ]
        }
      ]
    },
    {
      "cell_type": "code",
      "metadata": {
        "id": "hVK8QyFvE-wk"
      },
      "source": [
        "from openpyxl import load_workbook\n",
        "\n",
        "#Montando planilha no collab\n",
        "planilhas = load_workbook(filename='credito - M10.xlsx')\n",
        "planilha = planilhas.active\n",
        "\n",
        "#filtrando inadimplentes e solteiros (auxliar)\n",
        "cabecalho = next(planilha.values)\n",
        "indice_default = cabecalho.index('default')\n",
        "indice_solteiro = cabecalho.index('estado_civil')\n",
        "\n",
        "#Criação das Listas onde seram armazendadas as informações até  mandar para o CSV\n",
        "ids = []\n",
        "sexos = []\n",
        "idades = []\n",
        "\n",
        "#Formula para achar os valores procurados:\n",
        "for cel in planilha[\"B\"]:\n",
        "    if (cel.value == 1):\n",
        "        linha = cel.row\n",
        "        aux = planilha[f'G{linha}']\n",
        "        verificador = aux.value\n",
        "        if(verificador == \"solteiro\"):\n",
        "            linha_filtro = cel.row\n",
        "            id = planilha[f'A{linha_filtro}']\n",
        "            id = id.value\n",
        "            ids.append(id)\n",
        "            sexo = planilha[f'C{linha_filtro}']\n",
        "            sexo = sexo.value\n",
        "            sexos.append(sexo)\n",
        "            idade = planilha[f'D{linha_filtro}']\n",
        "            idade = idade.value\n",
        "            idades.append(idade)"
      ],
      "execution_count": null,
      "outputs": []
    },
    {
      "cell_type": "code",
      "source": [
        "#Montar o CSV\n",
        "import csv\n",
        "\n",
        "#Titulo das colunas no csv:\n",
        "ids.insert(0, \"Id\")\n",
        "sexos.insert(0, \"Sexo\")\n",
        "idades.insert(0, \"Idades\")\n",
        "\n",
        "#Transformando lista em colunas:\n",
        "with open(file='./pergunta1.csv', mode='w',newline=\"\", encoding='utf8') as arquivo:\n",
        "    writer = csv.writer(arquivo)\n",
        "    for value in range(len(ids)):\n",
        "        writer.writerow([ids[value], sexos[value], idades[value]])\n"
      ],
      "metadata": {
        "id": "3pJkv9i2p8lB"
      },
      "execution_count": null,
      "outputs": []
    },
    {
      "cell_type": "markdown",
      "metadata": {
        "id": "finLQoyyGVmk"
      },
      "source": [
        "## 2\\. Excel para JSON"
      ]
    },
    {
      "cell_type": "markdown",
      "metadata": {
        "id": "99BrnqR4GVmy"
      },
      "source": [
        "Como preparação para o próximo módulo, vamos trabalhar com o JSON, um formato semi-estruturado, muito utilizado em transmissão de dados da web e equivalente a um **dicionário** Python."
      ]
    },
    {
      "cell_type": "markdown",
      "metadata": {
        "id": "AQqks_tohV8k"
      },
      "source": [
        "Utilizando o pacote Python `openpyxl` visto em aula, extraia os dados das colunas `escolaridade` e `tipo_cartao`, removendo duplicados. Com os dados, construa o dicionário Python `credito` com a seguinte estrutura:\n",
        "\n",
        "```python\n",
        "credito = {\n",
        "  'tipo_cartao': ['silver', 'blue', 'gold', 'platinum'],\n",
        "  'escolaridade': ['doutorado', 'mestrado', 'na', 'sem educacao formal', 'graduacao', 'ensino medio']\n",
        "}\n",
        "```\n",
        "\n",
        "Para finalizar, utilize o código abaixo para converter o dicionário `credito` no formato JSON:\n",
        "\n",
        "```python\n",
        "import json\n",
        "\n",
        "credito_json = json.dumps(credito, indent=4)\n",
        "print(credito_json)\n",
        "```\n",
        "\n",
        "**Dica:** Sua solução deve gerar o dicionário Python `credito` igual ao exemplo mas a ordem dos elementos pode variar tranquilamente.\n",
        "\n",
        "**Dica:** Uma excelente forma de remover elementos duplicados de uma lista é convertê-la para `set` e depois para `list` novamente.\n",
        "\n"
      ]
    },
    {
      "cell_type": "code",
      "metadata": {
        "id": "pCMQ5vBPjSXn"
      },
      "source": [
        "# solução do exercício 2\n",
        "from openpyxl import load_workbook\n",
        "\n",
        "#Montando planilha no collab\n",
        "planilhas = load_workbook(filename='credito - M10.xlsx')\n",
        "planilha = planilhas.active\n",
        "\n",
        "cabecalho = next(planilha.values)\n",
        "indice_cartao = cabecalho.index('tipo_cartao')\n",
        "indice_escolaridade = cabecalho.index('escolaridade')\n",
        "\n",
        "#Criação das Listas onde seram armazendadas as informações até  mandar para o CSV\n",
        "cartoes = []\n",
        "escolaridades = []\n",
        "\n",
        "#Formula para achar os valores procurados:\n",
        "for cel in planilha[\"A\"]:\n",
        "    if (cel.value != 0):\n",
        "        linha = cel.row\n",
        "        cartao = planilha[f'I{linha}']\n",
        "        cartao = cartao.value\n",
        "        cartoes.append(cartao)\n",
        "        escolaridade = planilha[f'F{linha}']\n",
        "        escolaridade = escolaridade.value\n",
        "        escolaridades.append(escolaridade)\n",
        "\n",
        "#Removendo duplicatas:\n",
        "cartoes = list(set(cartoes))\n",
        "escolaridades = list(set(escolaridades))\n",
        "\n",
        "#Removendo o que não é funcionalidade:\n",
        "del cartoes[1]\n",
        "del escolaridades[4]"
      ],
      "execution_count": 29,
      "outputs": []
    },
    {
      "cell_type": "code",
      "source": [
        "credito = {\n",
        "    \"tipo_cartao\":cartoes,\"escolaridade\":escolaridades\n",
        "}\n",
        "print(credito)"
      ],
      "metadata": {
        "colab": {
          "base_uri": "https://localhost:8080/"
        },
        "id": "Gj9-DpUKmi5H",
        "outputId": "337ea12b-698e-4ada-9473-01e1c74ac982"
      },
      "execution_count": 39,
      "outputs": [
        {
          "output_type": "stream",
          "name": "stdout",
          "text": [
            "{'tipo_cartao': ['silver', 'blue', 'platinum', 'gold'], 'escolaridade': ['na', 'sem educacao formal', 'ensino medio', 'graduacao', 'doutorado', 'mestrado']}\n"
          ]
        }
      ]
    },
    {
      "cell_type": "code",
      "source": [
        "#conversor para json\n",
        "import json\n",
        "\n",
        "credito_json = json.dumps(credito, indent=4)\n",
        "print(credito_json)"
      ],
      "metadata": {
        "id": "uiKkcagnZQiD",
        "colab": {
          "base_uri": "https://localhost:8080/"
        },
        "outputId": "230762c2-939e-45cb-93a9-1df34637f9c9"
      },
      "execution_count": 41,
      "outputs": [
        {
          "output_type": "stream",
          "name": "stdout",
          "text": [
            "{\n",
            "    \"tipo_cartao\": [\n",
            "        \"silver\",\n",
            "        \"blue\",\n",
            "        \"platinum\",\n",
            "        \"gold\"\n",
            "    ],\n",
            "    \"escolaridade\": [\n",
            "        \"na\",\n",
            "        \"sem educacao formal\",\n",
            "        \"ensino medio\",\n",
            "        \"graduacao\",\n",
            "        \"doutorado\",\n",
            "        \"mestrado\"\n",
            "    ]\n",
            "}\n"
          ]
        }
      ]
    },
    {
      "cell_type": "markdown",
      "metadata": {
        "id": "As3enQc2GVm1"
      },
      "source": [
        "---"
      ]
    },
    {
      "cell_type": "markdown",
      "metadata": {
        "id": "SS1PxxfHILHs"
      },
      "source": [
        "## 3\\. BÔNUS: Texto para CSV"
      ]
    },
    {
      "cell_type": "markdown",
      "metadata": {
        "id": "i3f-X7y23onm"
      },
      "source": [
        "No arquivo de texto `ebac.txt` você encontra o texto presente no rodapé da página de cursos da EBAC ([link](https://ebaconline.com.br/)).\n",
        "\n"
      ]
    },
    {
      "cell_type": "markdown",
      "metadata": {
        "id": "nKDF9EBH3onp"
      },
      "source": [
        "**Arquivo TXT:** ebac.txt"
      ]
    },
    {
      "cell_type": "code",
      "metadata": {
        "id": "Pyyj5VNnb16w",
        "colab": {
          "base_uri": "https://localhost:8080/"
        },
        "outputId": "b1537cdf-24e8-4264-94fc-fb61f04662f6"
      },
      "source": [
        "%%writefile ebac.txt\n",
        "MÍDIAS SOCIAIS\n",
        "Instagram, Facebook, Youtube, LinkedIn\n",
        "\n",
        "CURSOS\n",
        "Software, Design, Marketing, Audiovisual, Programação & Data, Games\n",
        "\n",
        "WEBINARS\n",
        "Próximos, Anteriores\n",
        "\n",
        "SOBRE\n",
        "Sobre nós, Centro de carreiras, Vagas\n",
        "\n",
        "CONTATO\n",
        "WhatsApp +55 (11) 4200-2991\n",
        "Telefone +55 (11) 3030-3200\n",
        "\n",
        "BLOG\n",
        "Design, Audiovisual, Marketing"
      ],
      "execution_count": 42,
      "outputs": [
        {
          "output_type": "stream",
          "name": "stdout",
          "text": [
            "Writing ebac.txt\n"
          ]
        }
      ]
    },
    {
      "cell_type": "markdown",
      "metadata": {
        "id": "R4hMJ6D2ILH3"
      },
      "source": [
        "Extraia os números de contato do arquivo texto `ebac.txt` e salve-os no arquivo csv `contato_ebac.csv` com o separador `;` no seguinte formato:\n",
        "\n",
        "```\n",
        "tipo;numero\n",
        "whatsapp;+551142002991\n",
        "telefone;+551130303200\n",
        "```\n",
        "\n",
        "**Nota:** Escreva o código da sua solução abaixo em uma ou mais células, você não precisa enviar o arquivo csv gerado."
      ]
    },
    {
      "cell_type": "code",
      "metadata": {
        "id": "ogZClDvTILH3"
      },
      "source": [
        "# solução do exercício 3 (bônus)\n",
        "\n"
      ],
      "execution_count": null,
      "outputs": []
    },
    {
      "cell_type": "code",
      "source": [
        "with open(file='./ebac.txt', mode='r', encoding='utf8') as arquivo:\n",
        "  linhas = arquivo.readlines()\n",
        "linhas = filter(lambda linha: linha != '\\n', linhas)\n",
        "linhas = map(lambda linha: linha.strip().lower(), linhas)\n",
        "linhas = list(linhas)\n",
        "linhas_com_whats = filter(lambda linha: 'whatsapp' in linha, linhas)\n",
        "linhas_com_whats = list(linhas_com_whats)\n",
        "linhas_com_whats = str(linhas_com_whats).strip('[]').replace(\"(\",\"\").replace(\")\",\"\").replace(\"-\",\"\").replace(\"'\",\"\").replace(\" \",\"\")\n",
        "numero_whats = str(linhas_com_whats[9:21])"
      ],
      "metadata": {
        "id": "v8w1GXScIIC2"
      },
      "execution_count": 113,
      "outputs": []
    },
    {
      "cell_type": "code",
      "source": [
        "linhas_com_telefone = filter(lambda linha: 'telefone' in linha, linhas)\n",
        "linhas_com_telefone = list(linhas_com_telefone)\n",
        "linhas_com_telefone = str(linhas_com_telefone).strip('[]').replace(\"(\",\"\").replace(\")\",\"\").replace(\"-\",\"\").replace(\"'\",\"\").replace(\" \",\"\")\n",
        "numero_telefone = str(linhas_com_telefone[9:21])\n",
        "print(numero_telefone)"
      ],
      "metadata": {
        "colab": {
          "base_uri": "https://localhost:8080/"
        },
        "id": "VN7rtKXNM2R_",
        "outputId": "0c847330-0dd6-4d04-85a7-84281a4d0f6f"
      },
      "execution_count": 115,
      "outputs": [
        {
          "output_type": "stream",
          "name": "stdout",
          "text": [
            "551130303200\n"
          ]
        }
      ]
    },
    {
      "cell_type": "code",
      "source": [
        "import csv\n",
        "# Salvar os números no arquivo CSV:\n",
        "with open('contato_ebac.csv', 'w', newline='') as arquivo_csv:\n",
        "    escrever_csv = csv.writer(arquivo_csv, delimiter=';')\n",
        "    escrever_csv.writerow(['tipo', 'numero'])\n",
        "    escrever_csv.writerow(['whatsapp', f'+{numero_whats}'])\n",
        "    escrever_csv.writerow(['telefone', f'+{numero_telefone}'])\n"
      ],
      "metadata": {
        "id": "vKHIKFSvJN6s"
      },
      "execution_count": 116,
      "outputs": []
    }
  ]
}